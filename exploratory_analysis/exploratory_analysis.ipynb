{
 "cells": [
  {
   "cell_type": "code",
   "execution_count": 8,
   "id": "a1291e1c",
   "metadata": {},
   "outputs": [
    {
     "name": "stdout",
     "output_type": "stream",
     "text": [
      "   age  gender ethnicity education_level  income_level employment_status  \\\n",
      "0   58    Male     Asian      Highschool  Lower-Middle          Employed   \n",
      "1   48  Female     White      Highschool        Middle          Employed   \n",
      "2   60    Male  Hispanic      Highschool        Middle        Unemployed   \n",
      "3   74  Female     Black      Highschool           Low           Retired   \n",
      "4   46    Male     White        Graduate        Middle           Retired   \n",
      "\n",
      "  smoking_status  alcohol_consumption_per_week  \\\n",
      "0          Never                             0   \n",
      "1         Former                             1   \n",
      "2          Never                             1   \n",
      "3          Never                             0   \n",
      "4          Never                             1   \n",
      "\n",
      "   physical_activity_minutes_per_week  diet_score  ...  hdl_cholesterol  \\\n",
      "0                                 215         5.7  ...               41   \n",
      "1                                 143         6.7  ...               55   \n",
      "2                                  57         6.4  ...               66   \n",
      "3                                  49         3.4  ...               50   \n",
      "4                                 109         7.2  ...               52   \n",
      "\n",
      "   ldl_cholesterol  triglycerides  glucose_fasting  glucose_postprandial  \\\n",
      "0              160            145              136                   236   \n",
      "1               50             30               93                   150   \n",
      "2               99             36              118                   195   \n",
      "3               79            140              139                   253   \n",
      "4              125            160              137                   184   \n",
      "\n",
      "   insulin_level  hba1c  diabetes_risk_score  diabetes_stage  \\\n",
      "0           6.36   8.18                 29.6          Type 2   \n",
      "1           2.00   5.63                 23.0     No Diabetes   \n",
      "2           5.07   7.51                 44.7          Type 2   \n",
      "3           5.28   9.03                 38.2          Type 2   \n",
      "4          12.74   7.20                 23.5          Type 2   \n",
      "\n",
      "   diagnosed_diabetes  \n",
      "0                   1  \n",
      "1                   0  \n",
      "2                   1  \n",
      "3                   1  \n",
      "4                   1  \n",
      "\n",
      "[5 rows x 31 columns]\n"
     ]
    }
   ],
   "source": [
    "import sqlite3\n",
    "import pandas as pd\n",
    "\n",
    "# Connect to the database\n",
    "conn = sqlite3.connect(\"../health_indicators.db\")\n",
    "\n",
    "# Example 1: Get first 5 rows\n",
    "df = pd.read_sql(\"SELECT * FROM diabetes_health_indicators LIMIT 5;\", conn)\n",
    "print(df)\n"
   ]
  },
  {
   "cell_type": "code",
   "execution_count": 12,
   "id": "97bbbd91",
   "metadata": {},
   "outputs": [],
   "source": [
    "conn.close()"
   ]
  },
  {
   "cell_type": "code",
   "execution_count": null,
   "id": "fd964035",
   "metadata": {},
   "outputs": [],
   "source": []
  }
 ],
 "metadata": {
  "kernelspec": {
   "display_name": ".venv",
   "language": "python",
   "name": "python3"
  },
  "language_info": {
   "codemirror_mode": {
    "name": "ipython",
    "version": 3
   },
   "file_extension": ".py",
   "mimetype": "text/x-python",
   "name": "python",
   "nbconvert_exporter": "python",
   "pygments_lexer": "ipython3",
   "version": "3.13.2"
  }
 },
 "nbformat": 4,
 "nbformat_minor": 5
}
